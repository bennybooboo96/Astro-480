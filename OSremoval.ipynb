{
 "cells": [
  {
   "cell_type": "code",
   "execution_count": 41,
   "metadata": {},
   "outputs": [],
   "source": [
    "from astropy.io import fits\n",
    "import numpy as np\n",
    "import glob"
   ]
  },
  {
   "cell_type": "code",
   "execution_count": null,
   "metadata": {},
   "outputs": [],
   "source": [
    "overscanin = [line.rstrip('\\n') for line in open('allfiles.list')]\n",
    "noscanout = [line.rstrip('\\n') for line in open('allfiles_osr.list')]\n",
    "n=len(overscanin)\n",
    "\n",
    "for i in range(0,n):\n",
    "    data=fits.getdata(overscanin[i])\n",
    "    os_whrz_removal=np.delete(data,slice(1023,1028),axis=0)\n",
    "    os_total_removal=np.delete(os_whrz_removal,slice(1026,1077),axis=1)\n",
    "    fits.writeto(noscanout[i],os_total_removal)"
   ]
  },
  {
   "cell_type": "code",
   "execution_count": null,
   "metadata": {},
   "outputs": [],
   "source": []
  }
 ],
 "metadata": {
  "kernelspec": {
   "display_name": "Python 3",
   "language": "python",
   "name": "python3"
  },
  "language_info": {
   "codemirror_mode": {
    "name": "ipython",
    "version": 3
   },
   "file_extension": ".py",
   "mimetype": "text/x-python",
   "name": "python",
   "nbconvert_exporter": "python",
   "pygments_lexer": "ipython3",
   "version": "3.6.4"
  }
 },
 "nbformat": 4,
 "nbformat_minor": 2
}
